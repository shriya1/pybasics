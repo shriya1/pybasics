{
 "cells": [
  {
   "cell_type": "code",
   "execution_count": 1,
   "metadata": {
    "collapsed": true
   },
   "outputs": [],
   "source": [
    "paragraph = \"\"\"\n",
    "I confess: I am the worst junk food junkie in this great gluttonous galaxy of sugar, salt, and fat. You can keep your lentils, granola, and prunes.\n",
    "I want calories and carbohydrates, burgers and fries. \n",
    "Within minutes after waking up grouchy and puffy eyed in the morning,\n",
    "I stumble to the kitchen and pour myself a tall glass of ice cold Pepsi. \"\"\""
   ]
  },
  {
   "cell_type": "code",
   "execution_count": 3,
   "metadata": {},
   "outputs": [],
   "source": [
    "words = paragraph.split()"
   ]
  },
  {
   "cell_type": "code",
   "execution_count": 4,
   "metadata": {},
   "outputs": [
    {
     "data": {
      "text/plain": [
       "['I',\n",
       " 'confess:',\n",
       " 'I',\n",
       " 'am',\n",
       " 'the',\n",
       " 'worst',\n",
       " 'junk',\n",
       " 'food',\n",
       " 'junkie',\n",
       " 'in',\n",
       " 'this',\n",
       " 'great',\n",
       " 'gluttonous',\n",
       " 'galaxy',\n",
       " 'of',\n",
       " 'sugar,',\n",
       " 'salt,',\n",
       " 'and',\n",
       " 'fat.',\n",
       " 'You',\n",
       " 'can',\n",
       " 'keep',\n",
       " 'your',\n",
       " 'lentils,',\n",
       " 'granola,',\n",
       " 'and',\n",
       " 'prunes.',\n",
       " 'I',\n",
       " 'want',\n",
       " 'calories',\n",
       " 'and',\n",
       " 'carbohydrates,',\n",
       " 'burgers',\n",
       " 'and',\n",
       " 'fries.',\n",
       " 'Within',\n",
       " 'minutes',\n",
       " 'after',\n",
       " 'waking',\n",
       " 'up',\n",
       " 'grouchy',\n",
       " 'and',\n",
       " 'puffy',\n",
       " 'eyed',\n",
       " 'in',\n",
       " 'the',\n",
       " 'morning,',\n",
       " 'I',\n",
       " 'stumble',\n",
       " 'to',\n",
       " 'the',\n",
       " 'kitchen',\n",
       " 'and',\n",
       " 'pour',\n",
       " 'myself',\n",
       " 'a',\n",
       " 'tall',\n",
       " 'glass',\n",
       " 'of',\n",
       " 'ice',\n",
       " 'cold',\n",
       " 'Pepsi.']"
      ]
     },
     "execution_count": 4,
     "metadata": {},
     "output_type": "execute_result"
    }
   ],
   "source": [
    "words"
   ]
  },
  {
   "cell_type": "code",
   "execution_count": 7,
   "metadata": {},
   "outputs": [
    {
     "name": "stdout",
     "output_type": "stream",
     "text": [
      "I\n",
      "confess:\n",
      "I\n",
      "am\n",
      "the\n",
      "worst\n",
      "junk\n",
      "food\n",
      "junkie\n",
      "in\n",
      "this\n",
      "great\n",
      "gluttonous\n",
      "galaxy\n",
      "of\n",
      "sugar,\n",
      "salt,\n",
      "and\n",
      "fat.\n",
      "You\n",
      "can\n",
      "keep\n",
      "your\n",
      "lentils,\n",
      "granola,\n",
      "and\n",
      "prunes.\n",
      "I\n",
      "want\n",
      "calories\n",
      "and\n",
      "carbohydrates,\n",
      "burgers\n",
      "and\n",
      "fries.\n",
      "Within\n",
      "minutes\n",
      "after\n",
      "waking\n",
      "up\n",
      "grouchy\n",
      "and\n",
      "puffy\n",
      "eyed\n",
      "in\n",
      "the\n",
      "morning,\n",
      "I\n",
      "stumble\n",
      "to\n",
      "the\n",
      "kitchen\n",
      "and\n",
      "pour\n",
      "myself\n",
      "a\n",
      "tall\n",
      "glass\n",
      "of\n",
      "ice\n",
      "cold\n",
      "Pepsi.\n"
     ]
    }
   ],
   "source": [
    "for word in words:\n",
    "    print(word)"
   ]
  },
  {
   "cell_type": "code",
   "execution_count": 28,
   "metadata": {},
   "outputs": [
    {
     "name": "stdout",
     "output_type": "stream",
     "text": [
      "i\n",
      "confess\n",
      "i\n",
      "am\n",
      "the\n",
      "worst\n",
      "junk\n",
      "food\n",
      "junkie\n",
      "in\n",
      "this\n",
      "great\n",
      "gluttonous\n",
      "galaxy\n",
      "of\n",
      "sugar\n",
      "salt\n",
      "and\n",
      "fat\n",
      "you\n",
      "can\n",
      "keep\n",
      "your\n",
      "lentils\n",
      "granola\n",
      "and\n",
      "prunes\n",
      "i\n",
      "want\n",
      "calories\n",
      "and\n",
      "carbohydrates\n",
      "burgers\n",
      "and\n",
      "fries\n",
      "within\n",
      "minutes\n",
      "after\n",
      "waking\n",
      "up\n",
      "grouchy\n",
      "and\n",
      "puffy\n",
      "eyed\n",
      "in\n",
      "the\n",
      "morning\n",
      "i\n",
      "stumble\n",
      "to\n",
      "the\n",
      "kitchen\n",
      "and\n",
      "pour\n",
      "myself\n",
      "a\n",
      "tall\n",
      "glass\n",
      "of\n",
      "ice\n",
      "cold\n",
      "pepsi\n"
     ]
    },
    {
     "data": {
      "text/plain": [
       "['i',\n",
       " 'confess',\n",
       " 'i',\n",
       " 'am',\n",
       " 'the',\n",
       " 'worst',\n",
       " 'junk',\n",
       " 'food',\n",
       " 'junkie',\n",
       " 'in',\n",
       " 'this',\n",
       " 'great',\n",
       " 'gluttonous',\n",
       " 'galaxy',\n",
       " 'of',\n",
       " 'sugar',\n",
       " 'salt',\n",
       " 'and',\n",
       " 'fat',\n",
       " 'you',\n",
       " 'can',\n",
       " 'keep',\n",
       " 'your',\n",
       " 'lentils',\n",
       " 'granola',\n",
       " 'and',\n",
       " 'prunes',\n",
       " 'i',\n",
       " 'want',\n",
       " 'calories',\n",
       " 'and',\n",
       " 'carbohydrates',\n",
       " 'burgers',\n",
       " 'and',\n",
       " 'fries',\n",
       " 'within',\n",
       " 'minutes',\n",
       " 'after',\n",
       " 'waking',\n",
       " 'up',\n",
       " 'grouchy',\n",
       " 'and',\n",
       " 'puffy',\n",
       " 'eyed',\n",
       " 'in',\n",
       " 'the',\n",
       " 'morning',\n",
       " 'i',\n",
       " 'stumble',\n",
       " 'to',\n",
       " 'the',\n",
       " 'kitchen',\n",
       " 'and',\n",
       " 'pour',\n",
       " 'myself',\n",
       " 'a',\n",
       " 'tall',\n",
       " 'glass',\n",
       " 'of',\n",
       " 'ice',\n",
       " 'cold',\n",
       " 'pepsi']"
      ]
     },
     "execution_count": 28,
     "metadata": {},
     "output_type": "execute_result"
    }
   ],
   "source": [
    "_words = []\n",
    "for word in words:\n",
    "    word = word.strip('.').strip(':').strip(',').lower()\n",
    "    print(word)\n",
    "    _words.append(word)\n",
    "_words"
   ]
  },
  {
   "cell_type": "code",
   "execution_count": 18,
   "metadata": {},
   "outputs": [
    {
     "data": {
      "text/plain": [
       "'abc'"
      ]
     },
     "execution_count": 18,
     "metadata": {},
     "output_type": "execute_result"
    }
   ],
   "source": [
    "'abc'.strip()"
   ]
  },
  {
   "cell_type": "markdown",
   "metadata": {},
   "source": [
    "list comprehension"
   ]
  },
  {
   "cell_type": "code",
   "execution_count": 19,
   "metadata": {},
   "outputs": [
    {
     "data": {
      "text/plain": [
       "[2, 4, 6, 8, 10, 12, 14, 16, 18]"
      ]
     },
     "execution_count": 19,
     "metadata": {},
     "output_type": "execute_result"
    }
   ],
   "source": [
    "list(range(2, 20, 2))"
   ]
  },
  {
   "cell_type": "code",
   "execution_count": 21,
   "metadata": {},
   "outputs": [
    {
     "name": "stdout",
     "output_type": "stream",
     "text": [
      "[3, 6, 9, 12, 15, 18, 21, 24, 27, 30]\n"
     ]
    }
   ],
   "source": [
    "items = []\n",
    "for t in range(1, 31):\n",
    "    if t % 3 == 0:\n",
    "        items.append(t)\n",
    "print(items)"
   ]
  },
  {
   "cell_type": "code",
   "execution_count": 24,
   "metadata": {},
   "outputs": [
    {
     "data": {
      "text/plain": [
       "[3, 6, 9, 12, 15, 18, 21, 24, 27, 30]"
      ]
     },
     "execution_count": 24,
     "metadata": {},
     "output_type": "execute_result"
    }
   ],
   "source": [
    "items = [ i for i in range(1,31) if i % 3 == 0]\n",
    "items"
   ]
  },
  {
   "cell_type": "code",
   "execution_count": 25,
   "metadata": {},
   "outputs": [
    {
     "data": {
      "text/plain": [
       "[9, 36, 81, 144, 225, 324, 441, 576, 729, 900]"
      ]
     },
     "execution_count": 25,
     "metadata": {},
     "output_type": "execute_result"
    }
   ],
   "source": [
    "[ i**2 for i in range(1,31) if i % 3 == 0]"
   ]
  },
  {
   "cell_type": "code",
   "execution_count": 27,
   "metadata": {},
   "outputs": [
    {
     "data": {
      "text/plain": [
       "['i',\n",
       " 'confess',\n",
       " 'i',\n",
       " 'am',\n",
       " 'the',\n",
       " 'worst',\n",
       " 'junk',\n",
       " 'food',\n",
       " 'junkie',\n",
       " 'in',\n",
       " 'this',\n",
       " 'great',\n",
       " 'gluttonous',\n",
       " 'galaxy',\n",
       " 'of',\n",
       " 'sugar',\n",
       " 'salt',\n",
       " 'and',\n",
       " 'fat',\n",
       " 'you',\n",
       " 'can',\n",
       " 'keep',\n",
       " 'your',\n",
       " 'lentils',\n",
       " 'granola',\n",
       " 'and',\n",
       " 'prunes',\n",
       " 'i',\n",
       " 'want',\n",
       " 'calories',\n",
       " 'and',\n",
       " 'carbohydrates',\n",
       " 'burgers',\n",
       " 'and',\n",
       " 'fries',\n",
       " 'within',\n",
       " 'minutes',\n",
       " 'after',\n",
       " 'waking',\n",
       " 'up',\n",
       " 'grouchy',\n",
       " 'and',\n",
       " 'puffy',\n",
       " 'eyed',\n",
       " 'in',\n",
       " 'the',\n",
       " 'morning',\n",
       " 'i',\n",
       " 'stumble',\n",
       " 'to',\n",
       " 'the',\n",
       " 'kitchen',\n",
       " 'and',\n",
       " 'pour',\n",
       " 'myself',\n",
       " 'a',\n",
       " 'tall',\n",
       " 'glass',\n",
       " 'of',\n",
       " 'ice',\n",
       " 'cold',\n",
       " 'pepsi']"
      ]
     },
     "execution_count": 27,
     "metadata": {},
     "output_type": "execute_result"
    }
   ],
   "source": [
    "#_words = []\n",
    "#for word in words:\n",
    "#    word = word.strip('.').strip(':').strip(',').lower()\n",
    "#    print(word)\n",
    "#    _words.append(word)\n",
    "#_words\n",
    "\n",
    "[w.strip('.').strip(':').strip(',').lower() for w in words]"
   ]
  },
  {
   "cell_type": "code",
   "execution_count": 29,
   "metadata": {
    "collapsed": true
   },
   "outputs": [],
   "source": [
    "words = [w.strip('.').strip(':').strip(',').lower() for w in words]"
   ]
  },
  {
   "cell_type": "code",
   "execution_count": 30,
   "metadata": {
    "collapsed": true
   },
   "outputs": [],
   "source": [
    "freq = {}"
   ]
  },
  {
   "cell_type": "code",
   "execution_count": 42,
   "metadata": {},
   "outputs": [],
   "source": [
    "for word in _words:\n",
    "    freq[word] = 0"
   ]
  },
  {
   "cell_type": "code",
   "execution_count": 43,
   "metadata": {},
   "outputs": [
    {
     "data": {
      "text/plain": [
       "{'a': 0,\n",
       " 'after': 0,\n",
       " 'am': 0,\n",
       " 'and': 0,\n",
       " 'burgers': 0,\n",
       " 'calories': 0,\n",
       " 'can': 0,\n",
       " 'carbohydrates': 0,\n",
       " 'cold': 0,\n",
       " 'confess': 0,\n",
       " 'eyed': 0,\n",
       " 'fat': 0,\n",
       " 'food': 0,\n",
       " 'fries': 0,\n",
       " 'galaxy': 0,\n",
       " 'glass': 0,\n",
       " 'gluttonous': 0,\n",
       " 'granola': 0,\n",
       " 'great': 0,\n",
       " 'grouchy': 0,\n",
       " 'i': 0,\n",
       " 'ice': 0,\n",
       " 'in': 0,\n",
       " 'junk': 0,\n",
       " 'junkie': 0,\n",
       " 'keep': 0,\n",
       " 'kitchen': 0,\n",
       " 'lentils': 0,\n",
       " 'minutes': 0,\n",
       " 'morning': 0,\n",
       " 'myself': 0,\n",
       " 'of': 0,\n",
       " 'pepsi': 0,\n",
       " 'pour': 0,\n",
       " 'prunes': 0,\n",
       " 'puffy': 0,\n",
       " 'salt': 0,\n",
       " 'stumble': 0,\n",
       " 'sugar': 0,\n",
       " 'tall': 0,\n",
       " 'the': 0,\n",
       " 'this': 0,\n",
       " 'to': 0,\n",
       " 'up': 0,\n",
       " 'waking': 0,\n",
       " 'want': 0,\n",
       " 'within': 0,\n",
       " 'worst': 0,\n",
       " 'you': 0,\n",
       " 'your': 0}"
      ]
     },
     "execution_count": 43,
     "metadata": {},
     "output_type": "execute_result"
    }
   ],
   "source": [
    "freq"
   ]
  },
  {
   "cell_type": "code",
   "execution_count": 35,
   "metadata": {},
   "outputs": [
    {
     "data": {
      "text/plain": [
       "True"
      ]
     },
     "execution_count": 35,
     "metadata": {},
     "output_type": "execute_result"
    }
   ],
   "source": [
    "2 in[1,2,3]"
   ]
  },
  {
   "cell_type": "code",
   "execution_count": 36,
   "metadata": {},
   "outputs": [
    {
     "data": {
      "text/plain": [
       "True"
      ]
     },
     "execution_count": 36,
     "metadata": {},
     "output_type": "execute_result"
    }
   ],
   "source": [
    "'a'in 'apple'"
   ]
  },
  {
   "cell_type": "code",
   "execution_count": 37,
   "metadata": {},
   "outputs": [
    {
     "data": {
      "text/plain": [
       "False"
      ]
     },
     "execution_count": 37,
     "metadata": {},
     "output_type": "execute_result"
    }
   ],
   "source": [
    "'b' in 'apple'"
   ]
  },
  {
   "cell_type": "code",
   "execution_count": 38,
   "metadata": {},
   "outputs": [
    {
     "data": {
      "text/plain": [
       "['__add__',\n",
       " '__class__',\n",
       " '__contains__',\n",
       " '__delattr__',\n",
       " '__dir__',\n",
       " '__doc__',\n",
       " '__eq__',\n",
       " '__format__',\n",
       " '__ge__',\n",
       " '__getattribute__',\n",
       " '__getitem__',\n",
       " '__getnewargs__',\n",
       " '__gt__',\n",
       " '__hash__',\n",
       " '__init__',\n",
       " '__init_subclass__',\n",
       " '__iter__',\n",
       " '__le__',\n",
       " '__len__',\n",
       " '__lt__',\n",
       " '__mod__',\n",
       " '__mul__',\n",
       " '__ne__',\n",
       " '__new__',\n",
       " '__reduce__',\n",
       " '__reduce_ex__',\n",
       " '__repr__',\n",
       " '__rmod__',\n",
       " '__rmul__',\n",
       " '__setattr__',\n",
       " '__sizeof__',\n",
       " '__str__',\n",
       " '__subclasshook__',\n",
       " 'capitalize',\n",
       " 'casefold',\n",
       " 'center',\n",
       " 'count',\n",
       " 'encode',\n",
       " 'endswith',\n",
       " 'expandtabs',\n",
       " 'find',\n",
       " 'format',\n",
       " 'format_map',\n",
       " 'index',\n",
       " 'isalnum',\n",
       " 'isalpha',\n",
       " 'isdecimal',\n",
       " 'isdigit',\n",
       " 'isidentifier',\n",
       " 'islower',\n",
       " 'isnumeric',\n",
       " 'isprintable',\n",
       " 'isspace',\n",
       " 'istitle',\n",
       " 'isupper',\n",
       " 'join',\n",
       " 'ljust',\n",
       " 'lower',\n",
       " 'lstrip',\n",
       " 'maketrans',\n",
       " 'partition',\n",
       " 'replace',\n",
       " 'rfind',\n",
       " 'rindex',\n",
       " 'rjust',\n",
       " 'rpartition',\n",
       " 'rsplit',\n",
       " 'rstrip',\n",
       " 'split',\n",
       " 'splitlines',\n",
       " 'startswith',\n",
       " 'strip',\n",
       " 'swapcase',\n",
       " 'title',\n",
       " 'translate',\n",
       " 'upper',\n",
       " 'zfill']"
      ]
     },
     "execution_count": 38,
     "metadata": {},
     "output_type": "execute_result"
    }
   ],
   "source": [
    "dir('')"
   ]
  },
  {
   "cell_type": "code",
   "execution_count": 39,
   "metadata": {},
   "outputs": [
    {
     "data": {
      "text/plain": [
       "True"
      ]
     },
     "execution_count": 39,
     "metadata": {},
     "output_type": "execute_result"
    }
   ],
   "source": [
    "'a' in {'a': 1, 'b': 4}"
   ]
  },
  {
   "cell_type": "code",
   "execution_count": 46,
   "metadata": {},
   "outputs": [
    {
     "data": {
      "text/plain": [
       "{'a': 1,\n",
       " 'after': 1,\n",
       " 'am': 1,\n",
       " 'and': 6,\n",
       " 'burgers': 1,\n",
       " 'calories': 1,\n",
       " 'can': 1,\n",
       " 'carbohydrates': 1,\n",
       " 'cold': 1,\n",
       " 'confess': 1,\n",
       " 'eyed': 1,\n",
       " 'fat': 1,\n",
       " 'food': 1,\n",
       " 'fries': 1,\n",
       " 'galaxy': 1,\n",
       " 'glass': 1,\n",
       " 'gluttonous': 1,\n",
       " 'granola': 1,\n",
       " 'great': 1,\n",
       " 'grouchy': 1,\n",
       " 'i': 4,\n",
       " 'ice': 1,\n",
       " 'in': 2,\n",
       " 'junk': 1,\n",
       " 'junkie': 1,\n",
       " 'keep': 1,\n",
       " 'kitchen': 1,\n",
       " 'lentils': 1,\n",
       " 'minutes': 1,\n",
       " 'morning': 1,\n",
       " 'myself': 1,\n",
       " 'of': 2,\n",
       " 'pepsi': 1,\n",
       " 'pour': 1,\n",
       " 'prunes': 1,\n",
       " 'puffy': 1,\n",
       " 'salt': 1,\n",
       " 'stumble': 1,\n",
       " 'sugar': 1,\n",
       " 'tall': 1,\n",
       " 'the': 3,\n",
       " 'this': 1,\n",
       " 'to': 1,\n",
       " 'up': 1,\n",
       " 'waking': 1,\n",
       " 'want': 1,\n",
       " 'within': 1,\n",
       " 'worst': 1,\n",
       " 'you': 1,\n",
       " 'your': 1}"
      ]
     },
     "execution_count": 46,
     "metadata": {},
     "output_type": "execute_result"
    }
   ],
   "source": [
    "freq = {}\n",
    "for word in _words:\n",
    "    if word in freq:\n",
    "        freq[word] += 1\n",
    "    else:\n",
    "        freq[word] = 1\n",
    "freq"
   ]
  },
  {
   "cell_type": "code",
   "execution_count": 47,
   "metadata": {},
   "outputs": [
    {
     "data": {
      "text/plain": [
       "1"
      ]
     },
     "execution_count": 47,
     "metadata": {},
     "output_type": "execute_result"
    }
   ],
   "source": [
    "freq['to']"
   ]
  },
  {
   "cell_type": "code",
   "execution_count": 48,
   "metadata": {},
   "outputs": [
    {
     "data": {
      "text/plain": [
       "2"
      ]
     },
     "execution_count": 48,
     "metadata": {},
     "output_type": "execute_result"
    }
   ],
   "source": [
    "freq['to'] + 1"
   ]
  },
  {
   "cell_type": "code",
   "execution_count": 49,
   "metadata": {
    "collapsed": true
   },
   "outputs": [],
   "source": [
    "dct = {'a' :3 }"
   ]
  },
  {
   "cell_type": "code",
   "execution_count": 50,
   "metadata": {},
   "outputs": [
    {
     "data": {
      "text/plain": [
       "{'a': 3}"
      ]
     },
     "execution_count": 50,
     "metadata": {},
     "output_type": "execute_result"
    }
   ],
   "source": [
    "dct"
   ]
  },
  {
   "cell_type": "code",
   "execution_count": 53,
   "metadata": {},
   "outputs": [
    {
     "data": {
      "text/plain": [
       "{'a': 4}"
      ]
     },
     "execution_count": 53,
     "metadata": {},
     "output_type": "execute_result"
    }
   ],
   "source": [
    "dct['a'] = 4\n",
    "dct"
   ]
  },
  {
   "cell_type": "markdown",
   "metadata": {},
   "source": [
    "set comprehension"
   ]
  },
  {
   "cell_type": "code",
   "execution_count": 57,
   "metadata": {},
   "outputs": [
    {
     "data": {
      "text/plain": [
       "[1, 0, 2, 1, 0, 2, 1, 0, 2, 1, 0, 2, 1, 0, 2]"
      ]
     },
     "execution_count": 57,
     "metadata": {},
     "output_type": "execute_result"
    }
   ],
   "source": [
    "[x % 3 for x in range(0, 30) if x % 2 !=0]"
   ]
  },
  {
   "cell_type": "code",
   "execution_count": 58,
   "metadata": {},
   "outputs": [
    {
     "data": {
      "text/plain": [
       "{0, 1, 2}"
      ]
     },
     "execution_count": 58,
     "metadata": {},
     "output_type": "execute_result"
    }
   ],
   "source": [
    "{x % 3 for x in range(0, 30) if x % 2 !=0}"
   ]
  },
  {
   "cell_type": "markdown",
   "metadata": {},
   "source": [
    "dictionary comprehension"
   ]
  },
  {
   "cell_type": "code",
   "execution_count": 59,
   "metadata": {},
   "outputs": [
    {
     "data": {
      "text/plain": [
       "{1: 1,\n",
       " 3: 0,\n",
       " 5: 2,\n",
       " 7: 1,\n",
       " 9: 0,\n",
       " 11: 2,\n",
       " 13: 1,\n",
       " 15: 0,\n",
       " 17: 2,\n",
       " 19: 1,\n",
       " 21: 0,\n",
       " 23: 2,\n",
       " 25: 1,\n",
       " 27: 0,\n",
       " 29: 2}"
      ]
     },
     "execution_count": 59,
     "metadata": {},
     "output_type": "execute_result"
    }
   ],
   "source": [
    "{x: x % 3 for x in range(0, 30) if x % 2 !=0}"
   ]
  },
  {
   "cell_type": "markdown",
   "metadata": {},
   "source": [
    "### tuple comprehension ?"
   ]
  },
  {
   "cell_type": "markdown",
   "metadata": {},
   "source": [
    "generator"
   ]
  },
  {
   "cell_type": "code",
   "execution_count": 62,
   "metadata": {},
   "outputs": [
    {
     "data": {
      "text/plain": [
       "<generator object <genexpr> at 0x000001800F724E60>"
      ]
     },
     "execution_count": 62,
     "metadata": {},
     "output_type": "execute_result"
    }
   ],
   "source": [
    "(x % 3 for x in range(0, 30) if x % 2 !=0)"
   ]
  },
  {
   "cell_type": "code",
   "execution_count": 63,
   "metadata": {
    "collapsed": true
   },
   "outputs": [],
   "source": [
    "g = (x % 3 for x in range(0, 30) if x % 2 !=0)"
   ]
  },
  {
   "cell_type": "code",
   "execution_count": 72,
   "metadata": {},
   "outputs": [
    {
     "data": {
      "text/plain": [
       "<generator object <genexpr> at 0x000001800F724570>"
      ]
     },
     "execution_count": 72,
     "metadata": {},
     "output_type": "execute_result"
    }
   ],
   "source": [
    "g"
   ]
  },
  {
   "cell_type": "code",
   "execution_count": 73,
   "metadata": {},
   "outputs": [
    {
     "data": {
      "text/plain": [
       "1"
      ]
     },
     "execution_count": 73,
     "metadata": {},
     "output_type": "execute_result"
    }
   ],
   "source": [
    "next(g)"
   ]
  },
  {
   "cell_type": "code",
   "execution_count": 74,
   "metadata": {},
   "outputs": [
    {
     "data": {
      "text/plain": [
       "0"
      ]
     },
     "execution_count": 74,
     "metadata": {},
     "output_type": "execute_result"
    }
   ],
   "source": [
    "next(g)"
   ]
  },
  {
   "cell_type": "code",
   "execution_count": 76,
   "metadata": {},
   "outputs": [
    {
     "data": {
      "text/plain": [
       "2"
      ]
     },
     "execution_count": 76,
     "metadata": {},
     "output_type": "execute_result"
    }
   ],
   "source": [
    "next(g)"
   ]
  },
  {
   "cell_type": "code",
   "execution_count": 78,
   "metadata": {},
   "outputs": [],
   "source": [
    "def gen():\n",
    "    yield 1\n",
    "    yield 2\n",
    "    yield 3"
   ]
  },
  {
   "cell_type": "code",
   "execution_count": 79,
   "metadata": {},
   "outputs": [
    {
     "data": {
      "text/plain": [
       "<generator object gen at 0x000001800F747BA0>"
      ]
     },
     "execution_count": 79,
     "metadata": {},
     "output_type": "execute_result"
    }
   ],
   "source": [
    "gen()"
   ]
  },
  {
   "cell_type": "code",
   "execution_count": 80,
   "metadata": {
    "collapsed": true
   },
   "outputs": [],
   "source": [
    "gg = gen()"
   ]
  },
  {
   "cell_type": "code",
   "execution_count": 81,
   "metadata": {},
   "outputs": [
    {
     "data": {
      "text/plain": [
       "1"
      ]
     },
     "execution_count": 81,
     "metadata": {},
     "output_type": "execute_result"
    }
   ],
   "source": [
    "next(gg)"
   ]
  },
  {
   "cell_type": "code",
   "execution_count": 82,
   "metadata": {},
   "outputs": [
    {
     "data": {
      "text/plain": [
       "2"
      ]
     },
     "execution_count": 82,
     "metadata": {},
     "output_type": "execute_result"
    }
   ],
   "source": [
    "next(gg)"
   ]
  },
  {
   "cell_type": "code",
   "execution_count": 83,
   "metadata": {},
   "outputs": [
    {
     "data": {
      "text/plain": [
       "3"
      ]
     },
     "execution_count": 83,
     "metadata": {},
     "output_type": "execute_result"
    }
   ],
   "source": [
    "next(gg)"
   ]
  },
  {
   "cell_type": "code",
   "execution_count": 84,
   "metadata": {},
   "outputs": [
    {
     "ename": "StopIteration",
     "evalue": "",
     "output_type": "error",
     "traceback": [
      "\u001b[1;31m---------------------------------------------------------------------------\u001b[0m",
      "\u001b[1;31mStopIteration\u001b[0m                             Traceback (most recent call last)",
      "\u001b[1;32m<ipython-input-84-061679e5a616>\u001b[0m in \u001b[0;36m<module>\u001b[1;34m()\u001b[0m\n\u001b[1;32m----> 1\u001b[1;33m \u001b[0mnext\u001b[0m\u001b[1;33m(\u001b[0m\u001b[0mgg\u001b[0m\u001b[1;33m)\u001b[0m\u001b[1;33m\u001b[0m\u001b[0m\n\u001b[0m",
      "\u001b[1;31mStopIteration\u001b[0m: "
     ]
    }
   ],
   "source": [
    "next(gg)"
   ]
  },
  {
   "cell_type": "code",
   "execution_count": 86,
   "metadata": {},
   "outputs": [],
   "source": [
    "def gen():\n",
    "    return 1\n",
    "    return 2\n",
    "    return 3"
   ]
  },
  {
   "cell_type": "code",
   "execution_count": 87,
   "metadata": {},
   "outputs": [
    {
     "data": {
      "text/plain": [
       "1"
      ]
     },
     "execution_count": 87,
     "metadata": {},
     "output_type": "execute_result"
    }
   ],
   "source": [
    "gen()"
   ]
  },
  {
   "cell_type": "code",
   "execution_count": 88,
   "metadata": {},
   "outputs": [
    {
     "data": {
      "text/plain": [
       "1"
      ]
     },
     "execution_count": 88,
     "metadata": {},
     "output_type": "execute_result"
    }
   ],
   "source": [
    "gen()"
   ]
  },
  {
   "cell_type": "code",
   "execution_count": 89,
   "metadata": {
    "collapsed": true
   },
   "outputs": [],
   "source": [
    "x = 7 if 6 < 7 else 6"
   ]
  },
  {
   "cell_type": "code",
   "execution_count": 90,
   "metadata": {},
   "outputs": [
    {
     "data": {
      "text/plain": [
       "7"
      ]
     },
     "execution_count": 90,
     "metadata": {},
     "output_type": "execute_result"
    }
   ],
   "source": [
    "x"
   ]
  },
  {
   "cell_type": "code",
   "execution_count": 91,
   "metadata": {
    "collapsed": true
   },
   "outputs": [],
   "source": [
    "if 6 < 7:\n",
    "    x = 7\n",
    "else:\n",
    "    x = 6"
   ]
  },
  {
   "cell_type": "code",
   "execution_count": 92,
   "metadata": {},
   "outputs": [
    {
     "data": {
      "text/plain": [
       "7"
      ]
     },
     "execution_count": 92,
     "metadata": {},
     "output_type": "execute_result"
    }
   ],
   "source": [
    "x"
   ]
  },
  {
   "cell_type": "code",
   "execution_count": 93,
   "metadata": {},
   "outputs": [
    {
     "data": {
      "text/plain": [
       "['h', 'e', 'l', 'l', 'o']"
      ]
     },
     "execution_count": 93,
     "metadata": {},
     "output_type": "execute_result"
    }
   ],
   "source": [
    "[y for x in [\"hello\", \"world\"] for y in x if x.startswith('h')]"
   ]
  },
  {
   "cell_type": "code",
   "execution_count": 94,
   "metadata": {
    "collapsed": true
   },
   "outputs": [],
   "source": [
    "yy = []\n",
    "for x in [\"hello\", \"world\"]:\n",
    "    if x.startswith('h'):\n",
    "        for y in x:\n",
    "            yy.append(y)\n"
   ]
  },
  {
   "cell_type": "code",
   "execution_count": 95,
   "metadata": {},
   "outputs": [
    {
     "data": {
      "text/plain": [
       "['h', 'e', 'l', 'l', 'o']"
      ]
     },
     "execution_count": 95,
     "metadata": {},
     "output_type": "execute_result"
    }
   ],
   "source": [
    "yy"
   ]
  },
  {
   "cell_type": "code",
   "execution_count": 96,
   "metadata": {},
   "outputs": [
    {
     "data": {
      "text/plain": [
       "['H', 'E', 'L', 'L', 'o']"
      ]
     },
     "execution_count": 96,
     "metadata": {},
     "output_type": "execute_result"
    }
   ],
   "source": [
    "[y if y > 'm' else y.upper() for x in [\"hello\", \"world\"] for y in x if x.startswith('h')]"
   ]
  },
  {
   "cell_type": "code",
   "execution_count": null,
   "metadata": {
    "collapsed": true
   },
   "outputs": [],
   "source": []
  }
 ],
 "metadata": {
  "kernelspec": {
   "display_name": "Python 3",
   "language": "python",
   "name": "python3"
  },
  "language_info": {
   "codemirror_mode": {
    "name": "ipython",
    "version": 3
   },
   "file_extension": ".py",
   "mimetype": "text/x-python",
   "name": "python",
   "nbconvert_exporter": "python",
   "pygments_lexer": "ipython3",
   "version": "3.6.1"
  }
 },
 "nbformat": 4,
 "nbformat_minor": 2
}
